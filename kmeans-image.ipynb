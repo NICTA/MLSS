{
 "metadata": {
  "name": "",
  "signature": "sha256:a7907b62654e8aa4224f0d9610c0e4e95ddad74f22fff05558b826e8528e9d08"
 },
 "nbformat": 3,
 "nbformat_minor": 0,
 "worksheets": [
  {
   "cells": [
    {
     "cell_type": "markdown",
     "metadata": {},
     "source": [
      "# K-means for image compression\n",
      "\n",
      "This notebook takes you through a potential use of k-means clustering; image segmentation and compression."
     ]
    },
    {
     "cell_type": "code",
     "collapsed": false,
     "input": [
      "%pylab inline\n",
      "from sklearn.datasets import load_sample_image\n",
      "from sklearn.cluster import KMeans"
     ],
     "language": "python",
     "metadata": {},
     "outputs": []
    },
    {
     "cell_type": "code",
     "collapsed": false,
     "input": [
      "img = load_sample_image(\"china.jpg\")"
     ],
     "language": "python",
     "metadata": {},
     "outputs": []
    },
    {
     "cell_type": "code",
     "collapsed": false,
     "input": [
      "img.shape, img.dtype"
     ],
     "language": "python",
     "metadata": {},
     "outputs": []
    },
    {
     "cell_type": "code",
     "collapsed": false,
     "input": [
      "print(\"Naive storage of the data in this jpg would take {} KiB\".format(427 * 640 * 3 / 1024))"
     ],
     "language": "python",
     "metadata": {},
     "outputs": []
    },
    {
     "cell_type": "code",
     "collapsed": false,
     "input": [
      "# Convert to floats instead of the default 8 bits integer coding. Dividing by\n",
      "# 255 is important so that imshow behaves works well on float data (need to\n",
      "# be in the range [0-1]\n",
      "china = np.array(img, dtype=np.float64) / 255\n",
      "\n",
      "imshow(china)"
     ],
     "language": "python",
     "metadata": {},
     "outputs": []
    },
    {
     "cell_type": "code",
     "collapsed": false,
     "input": [
      "n_colors = 128\n",
      "\n",
      "# Transform image into a 2D numpy array\n",
      "w, h, d = original_shape = tuple(china.shape)\n",
      "assert d == 3\n",
      "image_array = np.reshape(china, (w * h, d))\n",
      "\n",
      "image_array.shape"
     ],
     "language": "python",
     "metadata": {},
     "outputs": []
    },
    {
     "cell_type": "code",
     "collapsed": false,
     "input": [
      "k_means = KMeans(init='k-means++', n_clusters=n_colors)\n",
      "\n",
      "# Can either fit the model to a subset of the image, or all of it:\n",
      "# As you might expect fitting the whole image takes a lot longer\n",
      "#k_means.fit(image_array)\n",
      "\n",
      "image_array_sample = image_array.copy()\n",
      "np.random.shuffle(image_array_sample)\n",
      "image_array_sample = image_array_sample[:1000]\n",
      "k_means.fit(image_array_sample)\n"
     ],
     "language": "python",
     "metadata": {},
     "outputs": []
    },
    {
     "cell_type": "code",
     "collapsed": false,
     "input": [
      "colorPallete = k_means.cluster_centers_\n",
      "\n",
      "imshow(colorPallete.reshape((n_colors/8, 8, 3)), interpolation=\"none\")\n",
      "title(\"Color Pallet\");"
     ],
     "language": "python",
     "metadata": {},
     "outputs": []
    },
    {
     "cell_type": "code",
     "collapsed": false,
     "input": [
      "# Get labels for all points\n",
      "print(\"Predicting color indices on the full image using k-means\")\n",
      "labels = k_means.predict(image_array)\n",
      "labels = labels.astype(np.uint8)\n",
      "# Assuming we use less than 256 colors labels will fit in a byte (uint8)"
     ],
     "language": "python",
     "metadata": {},
     "outputs": []
    },
    {
     "cell_type": "code",
     "collapsed": false,
     "input": [
      "# Now our compressed image is represented by two pieces of information\n",
      "\n",
      "# The color labels:\n",
      "labels.shape, labels.dtype"
     ],
     "language": "python",
     "metadata": {},
     "outputs": []
    },
    {
     "cell_type": "code",
     "collapsed": false,
     "input": [
      "# And the means (color descriptions)\n",
      "k_means.cluster_centers_.shape, k_means.cluster_centers_.dtype"
     ],
     "language": "python",
     "metadata": {},
     "outputs": []
    },
    {
     "cell_type": "code",
     "collapsed": false,
     "input": [
      "print(\"K-Means storage of the data would take {} KiB\".format(((n_colors * 3 * 8) + (len(labels) * 1)) / 1024))"
     ],
     "language": "python",
     "metadata": {},
     "outputs": []
    },
    {
     "cell_type": "code",
     "collapsed": false,
     "input": [
      "def recreate_image(codebook, labels, w, h):\n",
      "    \"\"\"Recreate the (compressed) image from the code book & labels\"\"\"\n",
      "    d = codebook.shape[1]\n",
      "    image = np.zeros((w, h, d))\n",
      "    label_idx = 0\n",
      "    for i in range(w):\n",
      "        for j in range(h):\n",
      "            image[i][j] = codebook[labels[label_idx]]\n",
      "            label_idx += 1\n",
      "    return image"
     ],
     "language": "python",
     "metadata": {},
     "outputs": []
    },
    {
     "cell_type": "code",
     "collapsed": false,
     "input": [
      "title('Quantized image ({} colors, K-Means)'.format(n_colors))\n",
      "imshow(recreate_image(k_means.cluster_centers_, labels, w, h));"
     ],
     "language": "python",
     "metadata": {},
     "outputs": []
    },
    {
     "cell_type": "markdown",
     "metadata": {},
     "source": [
      "This use of k-means isn't a particularly sophisticated image compression scheme, a better algorithm would amost certainly take the spatial proximity of the pixels into account. Also the compression is a lossy scheme, as you can easily verify if you set a low K value (like 16)."
     ]
    }
   ],
   "metadata": {}
  }
 ]
}