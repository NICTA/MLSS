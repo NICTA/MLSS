{
 "metadata": {
  "name": "",
  "signature": "sha256:3704602a0fd1fc476b728087f1aeecc01dbb0bbb36c4907fc6cc50b7f7b8c5ac"
 },
 "nbformat": 3,
 "nbformat_minor": 0,
 "worksheets": [
  {
   "cells": [
    {
     "cell_type": "markdown",
     "metadata": {},
     "source": [
      "$$\n",
      "\\newcommand{\\dprod}[2]{{\\langle #1, #2 \\rangle}}\n",
      "\\newcommand{\\argmax} [1] {{\\underset{#1}{\\mathrm{argmax}~}}}\n",
      "\\newcommand{\\argmin} [1] {{\\underset{#1}{\\mathrm{argmin}~}}}\n",
      "\\renewcommand{\\min} [1] {{\\underset{#1}{\\mathrm{min}~}}}\n",
      "\\renewcommand{\\v}[1]{\\mathbf{#1}}\n",
      "$$"
     ]
    },
    {
     "cell_type": "code",
     "collapsed": false,
     "input": [
      "%pylab inline\n",
      "%load_ext autoreload\n",
      "%autoreload\n",
      "import numpy as np\n",
      "import matplotlib.pyplot as pl\n",
      "import util\n",
      "\n",
      "from scipy.stats import itemfreq\n",
      "from scipy.stats import bernoulli\n",
      "from scipy.stats import multivariate_normal as mvnorm\n",
      "\n",
      "import sklearn\n",
      "import scipy\n",
      "import matplotlib\n",
      "print(\"SKLEARN\",sklearn.__version__)\n",
      "print (\"SCIPY\",scipy.version.full_version)\n",
      "print(\"NUMPY\",np.__version__)\n",
      "print(\"MATPLOTLIB\",matplotlib.__version__)\n",
      "\n",
      "X, Y = util.load_data() # passenger_class, is_female, sibsp, parch, fare, embarked (categorical 0-3)\n",
      "X_demean = X - np.mean(X, axis=0)\n",
      "X_unitsd = X_demean/(np.std(X_demean,axis=0))\n",
      "X_whiten = np.dot(X_demean, util.whitening_matrix(X_demean))\n"
     ],
     "language": "python",
     "metadata": {},
     "outputs": []
    },
    {
     "cell_type": "markdown",
     "metadata": {},
     "source": [
      "## Classification\n",
      "Classification models learn a mapping $h(\\boldsymbol{X})$ from a feature space $\\boldsymbol{X}$ to a finite set of labels $\\boldsymbol{Y}$\n",
      "\n",
      "\n",
      "In this lab we will focus for simplicity on binary classification, where the labels are assumed to be in $\\{-1,1\\}$ or alternatively $\\{0,1\\}$. \n",
      "\n",
      "\n",
      "We will use simple generated datasets and a real data set on the sinking of the Titanic to explore some different classification algorithms. For a description of the variables and more information on the data see: https://www.kaggle.com/c/titanic-gettingStarted/data"
     ]
    },
    {
     "cell_type": "markdown",
     "metadata": {},
     "source": [
      "One approach to learning a classification function $h(\\boldsymbol{X})$ is to model $P(y|\\boldsymbol{x})$ and convert that to a classification by setting:\n",
      "\\begin{equation}h(\\boldsymbol{X}) = \\begin{cases} 1 & \\text{if }P(y|\\boldsymbol{x}) > \\frac{1}{2}\\\\ 0 & \\text{otherwise}\\end{cases}\n",
      "\\end{equation}\n",
      "\n",
      "\n",
      "Example: Suppose we want to build a model to predict the probability of survival on the Titanic based on just two categorical features, a persons class (1,2 or 3) and their sex (1=female,0=male). An obvious approach would be to create a category for each combination of our features (female 1st, female 2nd ... male 3rd) and calculate the proportion who survived in each as an estimate for the survival probability $P(y|\\boldsymbol{x})$. For each observation in our test data - we simply look up the survival rate in the corresponding category.\n",
      "\n",
      "This corresponds to maximum likelihood estimation: $\\hat{\\theta} = argmax_{\\theta'}P(data|\\theta')$, where the parameters, $\\theta$, we want to estimate are the true probabilities $P(y|\\boldsymbol{x})$ for each combination of $\\boldsymbol{x}$ and $data$ is the set features and labels we have observed."
     ]
    },
    {
     "cell_type": "code",
     "collapsed": false,
     "input": [
      "combinations = [(i,j) for i in [1,2,3] for j in [0,1]]\n",
      "for c in combinations:\n",
      "    match = np.where((X[:,0] == c[0]) * (X[:,1] == c[1]))[0]\n",
      "    print(c,sum(Y[match])/float(len(match)))"
     ],
     "language": "python",
     "metadata": {},
     "outputs": []
    },
    {
     "cell_type": "markdown",
     "metadata": {},
     "source": [
      "*Question: Why will this approach not work in general? What happens as we increase the number of features or the number of values each feature can take? What about if features are continuous?*"
     ]
    },
    {
     "cell_type": "markdown",
     "metadata": {},
     "source": [
      "## Naive Bayes\n",
      "\n",
      "\n",
      "Following Bayes Rule, we can write:\n",
      "\n",
      "$P(y|\\boldsymbol{x}) \\propto P(y)P(\\boldsymbol{x}|y) = P(y)P(x_1,x_2...x_D|y) $\n",
      "\n",
      "It easy to estimate $P(y)$ as just the proportions of each class in the training data. We could also directly estimate $P(x_1,x_2...x_D|y)$ for each $y$ (for example with kernel density estimation) but as the number of features $D$ gets large this estimation suffers the curse of dimensionality.\n",
      "\n",
      "Naive Bayes assumes that the data was generated by a model where all the features are independent of one-another given the class label so that we can estimate $P(x_j|y)$ separately for each feature.\n",
      "\n",
      "\\begin{equation}\n",
      "P(y|\\boldsymbol{x}) \\propto P(y)\\prod_{j=1}^D P(x_j|y)\n",
      "\\end{equation}\n",
      "\n",
      "The normalisation constant can be obtained;\n",
      "\n",
      "\\begin{equation}\n",
      "P(y|\\boldsymbol{x}) = \\frac{P(y)\\prod_{j=1}^D P(x_j|y)}{P(\\boldsymbol{x})},\n",
      "\\end{equation}\n",
      "where,\n",
      "\\begin{equation}\n",
      "P(\\boldsymbol{x}) = P(y=0)\\prod_{j=1}^D P(x_j|y=0) + P(y=1)\\prod_{j=1}^D P(x_j|y=1),\n",
      "\\end{equation}\n",
      "this operation is called [marginalisation](http://en.wikipedia.org/wiki/Marginal_distribution), since we marginalise (or sum/integrate out) $y$ from the joint distribution (top line) $P(y, \\mathbf{x}) = P(y)P(\\mathbf{x}|y)$ to obtain a distribution over $\\mathbf{x}$."
     ]
    },
    {
     "cell_type": "markdown",
     "metadata": {},
     "source": [
      "*Exercise: Implement a Naive Bayes model for the Titanic data set using passenger_class and is_female as features*"
     ]
    },
    {
     "cell_type": "code",
     "collapsed": false,
     "input": [
      "# a function that may be useful\n",
      "def proportions(array):\n",
      "    \"\"\" returns an map from each unique value in the input array to the proportion of times that value occures \"\"\"\n",
      "    prop = itemfreq(array)\n",
      "    prop[:,1] = prop[:,1]/sum(prop,axis=0)[1]\n",
      "    return dict(prop)\n",
      "\n",
      "class Naive_Bayes:\n",
      "    def train(self,X,Y):\n",
      "        \"\"\" trains the model with features X and labels Y \"\"\"\n",
      "        # 1) Estimate P(Y=1)\n",
      "        self.py = sum(Y)/float(len(Y))\n",
      "\n",
      "        # 2) For each feature, x, estimate P(x|y=1) and P(x|y=0)\n",
      "        survived = X[np.where(Y==1)[0],:] # the features of those who survived\n",
      "        died  = X[np.where(Y==0)[0],:] # the features for those who died\n",
      "\n",
      "        # estimate P(gender|survived)\n",
      "        self.gs = YOUR CODE HERE # return a map from gender value to probability: Hint the proportions function above may help\n",
      "\n",
      "        # estimate P(class|survived)\n",
      "        self.cs = YOUR CODE HERE # return a map from class to probability for those who survived\n",
      "\n",
      "        # estimate P(gender|died)\n",
      "        self.gd = YOUR CODE HERE # return a map from gender value to probability for those who died\n",
      "\n",
      "        # estimate P(class|died)  \n",
      "        self.cd = YOUR CODE HERE # return a map from class to probability for those who died\n",
      "    \n",
      "    def predict(self,sex,p_class):\n",
      "        \"\"\" outputs the probability of survival for a given class and gender \"\"\"\n",
      "        # caclulate unormalized P(y = 1|sex,p_class) as P(y=1)P(sex|y=1)P(p_class|y=1) \n",
      "        ps = YOUR CODE HERE\n",
      "\n",
      "        # calculate unormalized P(y = 0|sex,p_class) as P(y=0)P(sex|y=0)P(p_class|y=0)\n",
      "        pd = YOUR CODE HERE\n",
      "\n",
      "        # calculates the survival ratio as ps/pd and the normalized probability  from the ratio\n",
      "        r = ps/pd\n",
      "        psn = r/(1+r)\n",
      "        return psn\n",
      "\n",
      "# run the model\n",
      "model = Naive_Bayes()\n",
      "model.train(X,Y)\n",
      "for p_class,sex in combinations:\n",
      "    print((p_class,sex),model.predict(sex,p_class))\n",
      "\n"
     ],
     "language": "python",
     "metadata": {},
     "outputs": []
    },
    {
     "cell_type": "markdown",
     "metadata": {},
     "source": [
      "*Exercise: Compare these predictions with those just based on the proportion of survivals. How true is the Naive Bayes assumption for this case?*"
     ]
    },
    {
     "cell_type": "markdown",
     "metadata": {},
     "source": [
      "*Question: How does the number of parameters to be learnt scale with the number of features for Naive Bayes?*"
     ]
    },
    {
     "cell_type": "markdown",
     "metadata": {},
     "source": [
      "*Exersise: Run Naive Bayes from Sci-Kit Learn using the same features*"
     ]
    },
    {
     "cell_type": "code",
     "collapsed": false,
     "input": [
      "from sklearn.preprocessing import OneHotEncoder\n",
      "from sklearn.naive_bayes import MultinomialNB\n",
      "\n",
      "# Sklearn doesn't have a model that expects categorical data. \n",
      "# We need to first encode our (p_class, sex) to (is_first,is_second,is_third,is_female,is_male)\n",
      "\n",
      "# use preprocessing.OneHotEncoder to create a new dataset X2 that is the transformation of the first 2 columns of X\n",
      "\n",
      "nb_enc = OneHotEncoder()\n",
      "X2 = # use the encoder to transform the first two columns of X \n",
      "\n",
      "# fit a Multinommial Naive Bayes Model\n",
      " \n",
      "\n",
      "\n",
      "# transforms our combinations to the one-hot encoding\n",
      "c = nb_enc.transform(np.asarray(combinations)).toarray()\n",
      "\n",
      "# gets predictions for each combination\n",
      "predictions = nb.predict_proba(c)\n",
      "\n",
      "# prints your predictions in the same format as previous models\n",
      "for i in range(len(c)):\n",
      "    print(combinations[i],predictions[i][1])\n"
     ],
     "language": "python",
     "metadata": {},
     "outputs": []
    },
    {
     "cell_type": "markdown",
     "metadata": {},
     "source": [
      "Naive Bayes can also handle continuous features. The data below is generated by a gaussian mixture model. For each class there is a separate 2-dimensional gaussian distribution over the features x1,x2. \n",
      "\n"
     ]
    },
    {
     "cell_type": "code",
     "collapsed": false,
     "input": [
      "# Generates some data from a Gaussian Mixture Model. \n",
      "mean0 = [-1,-1]  # the mean of the gaussian for class 0      \n",
      "mean1 = [1,1] # the mean of the gaussian for class 1\n",
      "cov0 = [[.5, .28], [.28, .5]] # the covariance matrix for class 0\n",
      "cov1 = [[1, -.8], [-.8, 1]] # the covariance matrix for class 1\n",
      "mixture = util.GaussianMixture(mean0,cov0,mean1,cov1)\n",
      "mX,mY = mixture.sample(500,0.5,plot=True)\n"
     ],
     "language": "python",
     "metadata": {},
     "outputs": []
    },
    {
     "cell_type": "markdown",
     "metadata": {},
     "source": [
      "*Exercise: Fit A Gaussian Naive Bayes model using Sklearn*"
     ]
    },
    {
     "cell_type": "code",
     "collapsed": false,
     "input": [
      "from sklearn.naive_bayes import GaussianNB\n",
      "\n",
      "# fit a GaussianNB model\n",
      "\n",
      "gnb = YOUR CODE HERE # create and fit a Gaussian Naive Bayes model to the Gaussian mixture data mX,mY\n",
      "\n",
      "\n",
      "# plots the probability that a point in x,y belogs to the class Y=1 according to your model and the decision boundary p=.5\n",
      "x = np.linspace(-4,4,100)\n",
      "y = np.linspace(-4,4,100)\n",
      "test_points = np.dstack(np.meshgrid(x, y)).reshape(-1,2)\n",
      "z = gnb.predict_proba(test_points)[:,1].reshape(len(x),len(y)) # probability Y = 1\n",
      "f,ax = subplots(1,1,figsize=(5,5))\n",
      "cn = ax.contourf(x,y,z)\n",
      "ct = ax.contour(cn,levels=[0.5])\n",
      "ax.scatter(mX[:,0],mX[:,1],s=5, c = [\"black\" if t < 1 else \"white\" for t in mY],alpha=1)\n",
      "ax.clabel(ct)\n",
      "show()\n",
      "\n",
      "# Try changing the covariance matrices and refitting your model. \n",
      "# When does the probability distribution returned by Naive Bayes resemble the true one"
     ],
     "language": "python",
     "metadata": {},
     "outputs": []
    },
    {
     "cell_type": "markdown",
     "metadata": {},
     "source": [
      "## Logistic Regression\n",
      "\n",
      "Logistic regression models $P(y|\\boldsymbol{x})$ directly by assuming it is a (logistic) function of a linear combination of the features. The logistic function $\\theta(s) = \\frac{e^s}{e^s+1}$ maps the weighted features to $[0,1]$ to allow it to model a probability. Training logistic regression corresponds to learning the weights $\\boldsymbol{w}$ to maximise the likelihood function:\n",
      "\n",
      "\\begin{equation}\n",
      "P(y_1...y_n|\\boldsymbol{x}_1...\\boldsymbol{x}_n,\\boldsymbol{w}) = \\prod_{i=1}^n \\theta(y_i\\boldsymbol{w}^T\\boldsymbol{x}_i)\n",
      "\\end{equation}\n",
      "\n",
      "Maximising the likelihood $P(y_1...y_n|\\boldsymbol{x}_1...\\boldsymbol{x}_n,\\boldsymbol{w})$ is equivalent to minimising the negative log-likelihood: \n",
      "\\begin{equation}\n",
      "\\boldsymbol{w}^* = argmin_{\\boldsymbol{w}}\\left( -\\log\\left(\\prod_{i=1}^n \\theta(y_i\\boldsymbol{w}^T\\boldsymbol{x}_i)\\right)\\right)\n",
      "= argmin_{\\boldsymbol{w}}\\left( \\sum_{i=1}^n \\ln(1+e^{-y_i\\boldsymbol{w}^T\\boldsymbol{x}_i})\\right)\n",
      "\\end{equation}\n",
      "\n",
      "Once we have the weights $\\boldsymbol{w}^*$, we can predict the probability that a new observation belongs to each class."
     ]
    },
    {
     "cell_type": "markdown",
     "metadata": {},
     "source": [
      "*Question: Suppose that we have a data set that is linearly separable. What happens to the weights $w$ when we run linear regression?*"
     ]
    },
    {
     "cell_type": "markdown",
     "metadata": {},
     "source": [
      "*Exercise: Use Sklearn to fit a logistic regression model on the gaussian mixture data.*"
     ]
    },
    {
     "cell_type": "code",
     "collapsed": false,
     "input": [
      "#Run Logistic regression on the gaussian mixture data\n",
      "from sklearn.linear_model import LogisticRegression\n",
      "\n",
      "logistic = YOUR CODE HERE # create and fit a logistic regression model on mX,mY"
     ],
     "language": "python",
     "metadata": {},
     "outputs": []
    },
    {
     "cell_type": "code",
     "collapsed": false,
     "input": [
      "# plot the probability y = 1 as over the feature space as for Naive Bayes\n",
      "logistz = logistic.predict_proba(test_points)[:,1].reshape(len(x),len(y)) # probability Y = 1\n",
      "f,ax = subplots(1,1,figsize=(5,5))\n",
      "cn = ax.contourf(x,y,logistz)\n",
      "ct = ax.contour(cn,levels=[0.5])\n",
      "ax.scatter(mX[:,0],mX[:,1],s=5, c = [\"black\" if t < 1 else \"white\" for t in mY],alpha=1)\n",
      "ax.clabel(ct)\n",
      "show()# implement the jacobian"
     ],
     "language": "python",
     "metadata": {},
     "outputs": []
    },
    {
     "cell_type": "code",
     "collapsed": false,
     "input": [
      "# we can model more complex decision boundaries by expanding the feature space to include combinations of features\n",
      "\n",
      "# re-fit logistic regression adding in all quadratic combinations of features ie x1,x2,x1x2,x1^2,x2^2\n",
      "from sklearn.preprocessing import PolynomialFeatures\n",
      "poly_expand = YOUR CODE HERE # create a polynomial feature transformer that produces quadratic combinations\n",
      "m2X = YOUR CODE HERE # use poly_expand to transform the original features (mX)\n",
      "logistic.YOUR CODE HERE # fit the logistic model with the new features\n",
      "\n",
      "# transform the test plots and predict and plot\n",
      "testpoints2 = poly_expand.transform(test_points)\n",
      "logistic2z = logistic.predict_proba(testpoints2)[:,1].reshape(len(x),len(y)) # probability Y = 1\n",
      "f,ax = subplots(1,1,figsize=(5,5))\n",
      "cn = ax.contourf(x,y,logistic2z)\n",
      "ct = ax.contour(cn,levels=[0.5])\n",
      "ax.scatter(mX[:,0],mX[:,1],s=5, c = [\"black\" if t < 1 else \"white\" for t in mY],alpha=1)\n",
      "ax.clabel(ct)\n",
      "show()"
     ],
     "language": "python",
     "metadata": {},
     "outputs": []
    },
    {
     "cell_type": "markdown",
     "metadata": {},
     "source": [
      "With large numbers of features there is a risk of over fitting to the training data. We can tune a logistic regression model to reduce the risk of over fitting by penalising large weights, $\\boldsymbol{w}$ \n",
      "\n",
      "*Exersise: Experiment with the regularisation parameters sklearn provides: \n",
      "penalty = \"l1\" or \"l2\" and C = inverse of weight of regularisation term *"
     ]
    },
    {
     "cell_type": "code",
     "collapsed": false,
     "input": [
      "lreg = YOUR CODE HERE # create and fit a regularized logistic regression model to the quadraticly expanded features\n",
      "\n",
      "\n",
      "# plots the probability as before\n",
      "logistic2z_reg = lreg.predict_proba(testpoints2)[:,1].reshape(len(x),len(y)) # probability Y = 1\n",
      "f,ax = subplots(1,1,figsize=(5,5))\n",
      "cn = ax.contourf(x,y,logistic2z_reg)\n",
      "ct = ax.contour(cn,levels=[0.5])\n",
      "ax.scatter(mX[:,0],mX[:,1],s=5, c = [\"black\" if t < 1 else \"white\" for t in mY],alpha=1)\n",
      "ax.clabel(ct)\n",
      "show()"
     ],
     "language": "python",
     "metadata": {},
     "outputs": []
    },
    {
     "cell_type": "code",
     "collapsed": false,
     "input": [
      "# Run logistic regression on the titanic data\n",
      "\n",
      "titanic_logist = YOUR CODE HERE # create and fit a logistic regression model on the titanic data\n",
      "\n",
      "\n",
      "# Look at the coefficients (weights) in the model. Are they meaningfull? \n",
      "# Do you need to change the way any of the features were encoded?\n",
      "print(titanic_logist.coef_)\n",
      "print(titanic_logist.intercept_)"
     ],
     "language": "python",
     "metadata": {},
     "outputs": []
    },
    {
     "cell_type": "markdown",
     "metadata": {},
     "source": [
      "### Implement Logistic Regression (Optional)\n",
      "Recall for logistic regression we are trying to find (assuming we have encoded $Y$ as $\\{-1,1\\}$)  \n",
      "\\begin{equation}\n",
      "\\boldsymbol{w}^* = argmin_{\\boldsymbol{w}}\\left( \\sum_{i=1}^n \\ln(1+e^{-y_i\\boldsymbol{w}^T\\boldsymbol{x}_i})\\right)\n",
      "\\end{equation}\n",
      "\n",
      "This is a convex optimisation problem in $\\boldsymbol{w}$.\n",
      "\n",
      "We can solve it using gradient decent (or an optimisation library)\n",
      "\n",
      "*Exercise: Implement logistic regression using scipy's optimisation library and run it on the gaussian mixture data mX,mY. *"
     ]
    },
    {
     "cell_type": "code",
     "collapsed": false,
     "input": [
      "# implement logistic regression using the scipy's optimization library and run it on the gaussian model data\n",
      "from scipy.optimize import minimize\n",
      "\n",
      "# copy input so our modifications don't effect original data\n",
      "dataX = mX\n",
      "dataY = mY\n",
      "\n",
      "# encode mY as -1,1\n",
      "dataY[mY==0] = -1\n",
      "\n",
      "# add a column of all ones to mX to allow us to fit an intercept\n",
      "dataX = np.hstack((np.ones((mX.shape[0],1)),mX))\n",
      "\n",
      "\n",
      "# implement the loss function\n",
      "def loss(w,X,Y):\n",
      "    YOUR CODE HERE \n",
      "    \n",
      "\n",
      "# start the optimization with randomly guessed weights    \n",
      "w0 = np.random.random((dataX.shape[1],1)) \n",
      "\n",
      "# runs the optimisation\n",
      "optimal = minimize(loss,w0,args=(dataX,dataY),method=\"BFGS\")    \n",
      "w = optimal.x\n",
      "print(w)\n",
      "\n",
      "# how does this compare with the coefficients you saw using Sklearn? \n",
      "# try refitting the sklearn logistic model with a very high value for C (like 10000)."
     ],
     "language": "python",
     "metadata": {},
     "outputs": []
    },
    {
     "cell_type": "markdown",
     "metadata": {},
     "source": [
      "The optimisation method we are using (BFGS) needs to know the jacobian (gradient of the loss function with respect to w). Since we didn't supply it, python is approximating it numerically. We can speed things up by supplying it.\n",
      "\n",
      "\\begin{equation}\n",
      "L(\\boldsymbol{w}) = \\sum_{i=1}^n \\ln(1+e^{-y_i\\boldsymbol{w}^T\\boldsymbol{x}_i})  \\longleftarrow \\text{ loss function}\\\\\n",
      "\\nabla{L} = [\\frac{\\partial L}{\\partial w_1},\\frac{\\partial L}{\\partial w_2}, ..., \\frac{\\partial L}{\\partial w_D}] \\longleftarrow \\text{ definition of gradient}\\\\\n",
      "\\frac{\\partial L}{\\partial w_j} = -\\sum_{i=1}^n x_{ij} \\frac{ y_i e^{-y_i\\boldsymbol{w}^T\\boldsymbol{x}_i}}{1+e^{-y_i\\boldsymbol{w}^T\\boldsymbol{x}_i}} \\longleftarrow \\text{ result of taking partial derivative of loss function with respect to weight $j$}\\\\\n",
      "\\end{equation}\n",
      "\n",
      "*Exercise: repeat the previous exercise but supply the Jacobian to the minimizer*"
     ]
    },
    {
     "cell_type": "code",
     "collapsed": false,
     "input": [
      "# implement jacobian\n",
      "\n",
      "def grad_loss(w,X,Y):\n",
      "    YOUR CODE HERE\n",
      "    \n",
      "# start the optimization with randomly guessed weights    \n",
      "w0 = np.random.random((dataX.shape[1],1)) \n",
      "\n",
      "optimal = minimize(loss,w0,args=(dataX,dataY),jac = grad_loss, method=\"BFGS\")    \n",
      "print(optimal)\n",
      "w = optimal.x\n",
      "print(w) \n"
     ],
     "language": "python",
     "metadata": {},
     "outputs": []
    },
    {
     "cell_type": "markdown",
     "metadata": {},
     "source": [
      "#Support Vector Machines#\n",
      "\n",
      "A Support Vector Machine (SVM) is a classifier that attempts to separate classes of data with a plane. The location of the plane in the input space is selected based on a set of training examples labelled with a binary variable. To query the label of a new point, the algorithms simply determines on which side of the plane the point sits. In two dimensions, this amounts to dividing the input space into two sections with a straight line. In higher dimensions, the division is determined by a plane (or hyperplane in 4 or more dimensions). In general, we refer to SVMs as using a separating hyperplane in any dimension.\n",
      "\n",
      "The plane is chosen such that, if possible, it completely separates the two classes of points in the training data. This constraint is not sufficient however; many different planes may all successfully separate the training data. Therefore, SVMs use a plane which maximises the *margin*, or the distance parallel to the plane between the nearest data points of each category. The figure below illustrates this idea."
     ]
    },
    {
     "cell_type": "code",
     "collapsed": false,
     "input": [
      "util.margins_and_hyperplane()"
     ],
     "language": "python",
     "metadata": {},
     "outputs": []
    },
    {
     "cell_type": "markdown",
     "metadata": {},
     "source": [
      "Both the above lines successfully separate the two classes of data. However, the green line has a much larger margin than the red line, increasing the likelihood that new data will also be successfully classified. It is also possible to move this argument beyond intuition and prove that large margins increase the probability of correct classification.\n",
      "\n",
      "Given $m$ training data $\\{\\v{x}_i, y_i\\}_{i=1}^{m}$ with inputs $\\v{x}_i \\in \\mathbb{R}^k$ and labels $y_i \\in \\{-1,+1\\}$. \n",
      "\n",
      "We aim to draw a hyperplane $x : \\dprod{\\v{w}}{\\v{x}} - b = 0$ with $\\v{w} \\in \\mathbb{R}^k$ and $b \\in \\mathbb{R}$.\n",
      "\n",
      "Then we can always scale $\\v{w}$ and $b$ such that the boundary of the margin on the negative side satisfies $\\dprod{\\v{w}}{\\v{x}} - b = -1$ and the positive side satisfies $\\dprod{\\v{w}}{\\v{x}} - b = -1$. These two are equivalent to:\n",
      "\n",
      "$$\n",
      "y_i\\dprod{\\v{w}}{\\v{x}_i} - b \\ge 1 \\qquad \\forall i \\in \\{1,\\ldots,m\\}\n",
      "$$\n",
      "\n",
      "Under this constraint, the size of the margin is $\\frac{2}{\\|\\v{w}\\|}$, so therefore minimising $\\|\\v{w}\\|$ will find the maximum margine hyperplane. For reasons of computational effeciency, we instead consider the equivalent optimisation:\n",
      "\n",
      "$$\n",
      "\\argmin{\\v{w},b} \\frac{1}{2}\\|\\v{w}\\|^2 \\qquad \\mathrm{s.t.}\\,\\,\\,y_i\\dprod{\\v{w}}{\\v{x}_i} - b \\ge 1 \\qquad \\forall i \\in \\{1,\\ldots,m\\}\n",
      "$$\n",
      "\n",
      "This is known as the *primal form* of the SVM optimisation problem. \n",
      "\n",
      "###Dual Form###\n",
      "\n",
      "In order to determine this plane efficently, the above optimisation is not usually attempted directly. Instead, we solve the Lagrangian 'dual' problem. Assume each support vector exerts a perpendicular force of size \\alpha_i and direction y_j \\cdot \\v{w}/\\|w\\| on the (rigid) hyperplane, then the optimal solution is the mechanically stable one (ie the one where the sum of forces and torques on the sheet is zero). \n",
      "\n",
      "$$\n",
      "\\argmax{\\v{\\alpha}} W(\\alpha) = \\sum_{i=1}^{m}\\alpha_i - \n",
      "\\frac{1}{2}\\sum_{i,j=1}^{m} \\alpha_i \\alpha_j y_i y_j \\dprod{\\v{x}_i}{\\v{x}_j}\n",
      "$$\n",
      "subject to\n",
      "$\\alpha_i \\ge 0, \\sum_{i=1}^{m}\\alpha_i y_i = 0$. As an optimisation problem, this is a convex quadratic program (for which efficient algorithms exist).\n",
      "\n",
      "The hyperplane itself is parametrised in terms of the $\\alpha$ weights as\n",
      "$$\n",
      "f(x) = \\mathrm{sgn} (\\sum_{i=1}^{m} y_i \\alpha_i \\dprod{\\v{x}}{\\v{x}_i} + b).\n",
      "$$"
     ]
    },
    {
     "cell_type": "markdown",
     "metadata": {},
     "source": [
      "*Exercise: Show that the size of the margin is $\\frac{2}{\\|\\v{w}\\|}$.*"
     ]
    },
    {
     "cell_type": "markdown",
     "metadata": {},
     "source": [
      "*Exercise: Use Scikit.learn linear svm object to find the maximum margin hyperplane separating the dataset generated below.* "
     ]
    },
    {
     "cell_type": "code",
     "collapsed": false,
     "input": [
      "X2 = np.vstack((np.ones((150,2)),-1*np.ones((150,2)))) + 0.3*np.random.normal(size=(300,2))\n",
      "Y2 = np.hstack((np.ones(150),-1*np.ones(150)))\n",
      "\n",
      "from sklearn import svm\n",
      "#svm_instance = YOUR CODE HERE\n",
      "#MORE CODE HERE\n",
      "\n",
      "#util.plot_svm(X2, Y2, svm_instance)"
     ],
     "language": "python",
     "metadata": {},
     "outputs": []
    },
    {
     "cell_type": "markdown",
     "metadata": {},
     "source": [
      "*Exercise: Now come up with a new dataset whose two categories do not overlap, but for which there is no way to separate them with a plane. Bonus points for creativity here.* Run a linear SVM and see what happens."
     ]
    },
    {
     "cell_type": "code",
     "collapsed": false,
     "input": [
      "#X3 = ??\n",
      "#Y3 = ??\n",
      "\n",
      "#####\n",
      "\n",
      "#util.plot_svm(X3, Y3, svm_instance)"
     ],
     "language": "python",
     "metadata": {},
     "outputs": []
    },
    {
     "cell_type": "markdown",
     "metadata": {},
     "source": [
      "##Beyond Linear classification##\n",
      "In more complicated data, it may not be possible to draw a straight line between the classes (the data are not 'linearly seperable'). To ameliorate this, the data can first be transformed by some function $\\Psi$ that maps them into a higher dimensional space. Depending on the choice of $\\Psi$, the data may now be linearly separable and so amenable to SVM classfication.\n",
      "\n",
      "For example, the figure below (top) illustrates a dataset in 2D that is not linearly separable. However, if we perform the transformation\n",
      "\n",
      "$\\Phi : \\mathbb{R}^2 \\rightarrow \\mathbb{R}^3$\n",
      "\n",
      "$\\Phi(x) = ([x]_1^2, [x]_2^2 \\sqrt{2}[x]_1[x]_2)$,\n",
      "\n",
      "The resulting dataset *is* linearly separable. The transformed data is illustrated below (bottom).\n"
     ]
    },
    {
     "cell_type": "code",
     "collapsed": false,
     "input": [
      "util.nonlinear_example()"
     ],
     "language": "python",
     "metadata": {},
     "outputs": []
    },
    {
     "cell_type": "markdown",
     "metadata": {},
     "source": [
      "When a SVM classfier is run in the transformed space, the resulting hyperplane produces the following (correct) classfication in the original space:"
     ]
    },
    {
     "cell_type": "code",
     "collapsed": false,
     "input": [
      "util.nonlinear_svm()"
     ],
     "language": "python",
     "metadata": {},
     "outputs": []
    },
    {
     "cell_type": "markdown",
     "metadata": {},
     "source": [
      "This idea motivates a technique for increasing the complexity of classification tasks that an SVM can perform: Transform the input data into a high dimensional space where it may be linearly separable, find the maximum margin hyperplane in that space, then project it back into the original input space to produce a classification rule that may be non-linear. How do perform this process efficiently is described in the next section."
     ]
    },
    {
     "cell_type": "markdown",
     "metadata": {},
     "source": [
      "###The Kernel Trick###\n",
      "\n",
      "Explicitly computing a data transformation $\\Phi$ for very high output dimensions can quickly become intractable. However, examination of the SVM optimisation shows that we actually never need this transformation, only the inner product between two transformed vectors. We can keep the algorithm tractable by computing the inner product in the transformed space without ever explicitly computing the transformation itself. This is known as the 'kernel trick'.\n",
      "\n",
      "Rather than defining $\\Phi$, we define a *kernel function* that maps two elements into the input space into $\\mathbb{R}$.\n",
      "$$\n",
      "k : \\mathcal{S}\\otimes\\mathcal{S} \\rightarrow \\mathbb{R}.\n",
      "$$\n",
      "\n",
      "Then $k$ defines the dot product in the transform space:\n",
      "$$\n",
      "k(x_i, x_j) \\triangleq \\dprod{\\Phi(x_i)}{\\Phi(x_j)}.\n",
      "$$\n",
      "\n",
      "This definition also generalises to complex-valued kernels, but we will keep things simple for now.\n",
      "For $k$ to behave as a valid inner product, it must be *positive definite*. That is, given any set ${x_i}_{i=1}^{m} \\in \\mathcal{S}$,\n",
      "$$\n",
      "\\sum_{i=1}^{m}\\sum_{j=1}^{m} c_i c_j k(x_i,x_j) \\ge 0\n",
      "$$\n",
      "for all $c_i, c_j$ in $\\mathbb{R}$. \n",
      "\n",
      "Now, we can choose a positive definite kernel function, and it will induce a transformation of our data to a different space. This can be much more efficient that computing the transformation directly, which may be extremely high dimensional (or even infinite dimensional).\n",
      "\n",
      "\n",
      "\n"
     ]
    },
    {
     "cell_type": "markdown",
     "metadata": {},
     "source": [
      "*Exercise: To get a sense of how much time is saved, consider the transformation which maps a 3 dimensional vector to a point whose dimensions correspond to all possible products of the components of that vector of degree 10 or less: $\\Phi_{10}(([x]_1,[x]_2,[x]_3)) = [x]_1^{10}, [x]_1^9 [x]_2, [x]_1^8 [x]_2 [x]_3, \\cdots$\n",
      "How many terms are involved in computing this transformation explicitly? What about the 100-dimensional case?*\n",
      "\n",
      "\n",
      "*With the kernel trick, we can compute dot products in this space much more easily: $k(x,x^{\\prime}) = \\dprod{\\Phi_{10}(x)}{\\Phi_{10}(x^{\\prime})} = \\dprod{x}{x^{\\prime}}^{10}$.*"
     ]
    },
    {
     "cell_type": "markdown",
     "metadata": {},
     "source": [
      "##Soft Margins##\n",
      "\n",
      "Even with kernel trick, it may not be possible to separate the classes of training data with a hyperplane. For example, noise may cause the two classes to overlap. In this case, we can add *slack variables* $\\xi_i$, which, for each data point, allow it to exist a distance proportional to $\\xi_i$ on the wrong side of the plane. The resulting optimisation is identical, except that the weights $\\alpha_i$ are bounded by a regularisation constant $C$; \n",
      "\n",
      "\n",
      "$$\n",
      "\\argmax{\\v{\\alpha}} W(\\alpha) = \\sum_{i=1}^{m}\\alpha_i - \n",
      "\\frac{1}{2}\\sum_{i,j=1}^{m} \\alpha_i \\alpha_j y_i y_j \\dprod{\\v{x}_i}{\\v{x}_j}\n",
      "$$\n",
      "subject to\n",
      "$0 \\le \\alpha_i \\le C, \\sum_{i=1}^{m}\\alpha_i y_i = 0$.\n",
      "\n",
      "Changing $C$ trades off between maximising the margin of the hyperplane, and minimising the degree of mis-classification."
     ]
    },
    {
     "cell_type": "markdown",
     "metadata": {},
     "source": [
      "*Exercise: \n",
      "Run an SVM classifier over the titanic dataset, as you did in the previous sections. Compare the result of a linear kernel and a radial basis function('rbf') kernel. Note that the Scikit.learn SVM classifier has implemented the soft margin appoarch described above.* \n",
      "\n",
      "\n",
      "\n"
     ]
    },
    {
     "cell_type": "code",
     "collapsed": false,
     "input": [
      "from sklearn import svm\n",
      "\n",
      "\n",
      "#YOUR CODE HERE\n",
      "\n",
      "\n",
      "plot_dim_1 = 0\n",
      "plot_dim_2 = 1\n",
      "util.plot_svm(X, Y, svm_instance, plot_dim_1, plot_dim_2, (-5,-5), (6,6))"
     ],
     "language": "python",
     "metadata": {},
     "outputs": []
    },
    {
     "cell_type": "markdown",
     "metadata": {},
     "source": [
      "##Preprocessing Data for SVMs##\n",
      "\n",
      "The decision boundary for the exercise above was poor at sepating the two classes of data (Try visualising different pairs of dimensions to get an idea). This is, in part, because SVMs are sensitive to the statistical properties of their input. Input spaces in which different dimensions are shifted or scaled will tend to make it more difficult for the algorithm to find a separating hyperplane. One approach is to encode a more complex kernel that can account for these different scales and offsets, but a simpler approach is to pre-transform the data before passing it to the SVM. \n",
      "\n",
      "Typically, the data are transformed to have mean zero, and either unit standard deviation in each dimension, or 'whitened' to remove correlation between dimension and produce a dataset whose covariance matrix is the identity. These transformations are illustrated below on a 2D Gaussian dataset."
     ]
    },
    {
     "cell_type": "code",
     "collapsed": false,
     "input": [
      "util.illustrate_preprocessing()"
     ],
     "language": "python",
     "metadata": {},
     "outputs": []
    },
    {
     "cell_type": "markdown",
     "metadata": {},
     "source": [
      "*Exercise: re-implement the SVM classifier with RBF kernel on the titanic dataset. This time, use the whitened inputs X_whiten. Has the result improved? How we measure this improvement in a quantitative way is the subject of the next section.*\n",
      "\n",
      "*Optional: Implement a function which transforms a dataset to have zero mean and an identity matrix as its covariance.*"
     ]
    },
    {
     "cell_type": "code",
     "collapsed": false,
     "input": [
      "from sklearn import svm\n",
      "\n",
      "#YOUR CODE HERE\n",
      "\n",
      "#util.plot_svm(...)"
     ],
     "language": "python",
     "metadata": {},
     "outputs": []
    },
    {
     "cell_type": "markdown",
     "metadata": {},
     "source": [
      "Note that now, the new dimensions of the input space are each weighted linear combinations of the old dimensions. When evaluating testing data, don't forget to transform it as well! (See the code at the beginning of this notebook for details)."
     ]
    },
    {
     "cell_type": "markdown",
     "metadata": {},
     "source": [
      "## Evaluating Classification Algorithms\n",
      "Exersise: Run the Sklearn Naive Bayes, Logistic Regression and SVM models you previously trained on the titanic data set on a test set and compare how they perform. \n",
      "\n",
      "Hint: you don't want to re-train any models, only do prediction. If you are calling 'fit' on anything you are doing something wrong"
     ]
    },
    {
     "cell_type": "code",
     "collapsed": false,
     "input": [
      "# Compare the performance of the model you built on the titanic test data\n",
      "testX,testY = util.load_test_data()\n",
      "\n",
      "# Encode the test features for prediction with Naive Bayes using the encoder you built previously\n",
      "testXNB = nb_enc.transform(testX[:,0:2]).toarray()\n",
      "\n",
      "# Naive Bayes - generate predictions\n",
      "nb_pred = nb.predict(testXNB)\n",
      "\n",
      "# Logistic Regression\n",
      "logist_pred = titanic_logist.predict(testX)\n",
      "\n",
      "# SVM\n",
      "#svm_pred = titanic_svm.predict(testX)\n"
     ],
     "language": "python",
     "metadata": {},
     "outputs": []
    },
    {
     "cell_type": "markdown",
     "metadata": {},
     "source": [
      "Sklearn provides many metrics for evaluating the performance of a classifcation algorithm see http://scikit-learn.org/stable/modules/model_evaluation.html\n",
      "You can pass in one of these metrics to Sklearn's cross-validation functionality so as to to optimize algorithms tunable parameters to the loss you care about. For this lab though we will just use them to explore how well we did on the test set"
     ]
    },
    {
     "cell_type": "code",
     "collapsed": false,
     "input": [
      "# Sklearn provides many metrics for evaluating the performance of a classifcation algorithm see http://scikit-learn.org/stable/modules/model_evaluation.html\n",
      "# You can pass in one of these metrics to Sklearns cross-validation functionality so as to to optimize algorithms tunable \n",
      "# parameters to the loss you care about. \n",
      "# For this lab though we will just use them to explore how well we did on the test set\n",
      "from sklearn.metrics import confusion_matrix, roc_curve, auc,accuracy_score \n",
      "\n",
      "# 1) Print the proportion of predictions that were correct using accuracy_score(trueY,pred)\n",
      "print(accuracy_score(testY,nb_pred))\n",
      "print(accuracy_score(testY,logist_pred))\n",
      "\n",
      "\n",
      "# 2) print the confusion matrix using confusion_matrix(trueY, pred))\n",
      "# returns a matrix [[true=0,pred=0,true=1,pred=0][true=1,pred=0,true=1,pred=1]]\n",
      "print(confusion_matrix(testY, nb_pred))\n",
      "print(confusion_matrix(testY, logist_pred))\n",
      "\n",
      "# Question: A true positive is an instance that is actually 1 and is classified as 1\n",
      "# A false positive is an instance that is actually 0 and is classified as 1\n",
      "# Which cells of the confusion matrix contain these values?\n",
      "\n",
      "\n",
      "# 3) ROC curves \n",
      "# For algorithms that estimate the probability an instance belongs to a class, \n",
      "# we could vary the threshold above which we classify instances as positive to \n",
      "# change the ratio of true positives to false positives. \n",
      "# The ROC curve plots the proportion of true positives versus the proportion of false positives for each threshold.\n",
      "# Plot the ROC curves: the function roc_curve(y_true, y_score) takes: \n",
      "#                                    y_true: true labels  \n",
      "#                                    y_score: a score indicatingly likelyhood that each instance is positive\n",
      "#                                    returns: a tuple (false_positive_rate, true_positive_rate, thresholds)\n",
      "\n",
      "\n",
      "nb_score = nb.predict_proba(testXNB)[:,1]\n",
      "nb_fpr,nb_tpr,nb_thresh = roc_curve(testY,nb_score) \n",
      "\n",
      "lr_score = titanic_logist.predict_proba(testX)[:,1]\n",
      "lr_fpr,lr_tpr,lr_thresh = roc_curve(testY,lr_score)\n",
      "\n",
      "f,ax = pl.subplots(1,1)\n",
      "ax.plot(nb_fpr,nb_tpr,label=\"Naive Bayes\")\n",
      "ax.plot(lr_fpr,lr_tpr,label=\"Logistic Regression\")\n",
      "ax.set_xlabel(\"False Positive Rate\")\n",
      "ax.set_ylabel(\"True Positive Rate\")\n",
      "ax.set_title(\"ROC curves\")\n",
      "ax.legend(loc=\"lower right\")\n",
      "show()"
     ],
     "language": "python",
     "metadata": {},
     "outputs": []
    },
    {
     "cell_type": "markdown",
     "metadata": {},
     "source": [
      "Question: What would the ROC curve look like for a classifier that made no errors?\n",
      "\n",
      "Question: What is the significance of an ROC curve that lies below the line false_positive = true_positive?"
     ]
    },
    {
     "cell_type": "code",
     "collapsed": false,
     "input": [],
     "language": "python",
     "metadata": {},
     "outputs": []
    }
   ],
   "metadata": {}
  }
 ]
}