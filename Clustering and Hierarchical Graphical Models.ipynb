{
 "metadata": {
  "name": "",
  "signature": "sha256:f35ed72103c45114a374a648bd2ecb14a44c93f727e69e7a9941d7f797070d21"
 },
 "nbformat": 3,
 "nbformat_minor": 0,
 "worksheets": [
  {
   "cells": [
    {
     "cell_type": "markdown",
     "metadata": {},
     "source": [
      "#Clustering\n",
      "Clustering is one of the oldest data exploration methods. The objective is for an algorithm to discover sets of similar points, or observations, within a larger dataset. These sets are called *clusters*.  Similarity is almost always characterised by some distance function between observations, such as Euclidean $\\ell_2$. Some of the more simple algorithms require the number of clusters to be specified in advance, while others can also infer this from the data, usually given other assumptions. K-means <cite data-cite=\"MacQueen1967\">(MacQueen,1967)</cite> was one of the first and still most popular algorithms designed for this task."
     ]
    },
    {
     "cell_type": "code",
     "collapsed": false,
     "input": [],
     "language": "python",
     "metadata": {},
     "outputs": []
    }
   ],
   "metadata": {}
  }
 ]
}