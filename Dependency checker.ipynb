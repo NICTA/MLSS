{
 "metadata": {
  "name": "",
  "signature": "sha256:c282ed229b242607f540bc8d13822e58cd0f7fe94bbd32ac567b5f35a44dfd49"
 },
 "nbformat": 3,
 "nbformat_minor": 0,
 "worksheets": [
  {
   "cells": [
    {
     "cell_type": "markdown",
     "metadata": {},
     "source": [
      "# Check your system for the base python packages required for MLSS 2015\n",
      "\n",
      "Please run the following cell and it will tell you if your python environment can find all of the required packages."
     ]
    },
    {
     "cell_type": "code",
     "collapsed": false,
     "input": [
      "import imp\n",
      "\n",
      "packages = ['numpy',\n",
      "            'scipy',\n",
      "            'matplotlib',\n",
      "            'pandas',\n",
      "            'sklearn']\n",
      "\n",
      "for pac in packages:\n",
      "    try:\n",
      "        imp.find_module(pac)\n",
      "        print(\"{}: Ok!\".format(pac))\n",
      "    except ImportError as e:\n",
      "        print(\"{}: Error -- {}\".format(pac, e))"
     ],
     "language": "python",
     "metadata": {},
     "outputs": []
    },
    {
     "cell_type": "code",
     "collapsed": false,
     "input": [],
     "language": "python",
     "metadata": {},
     "outputs": []
    }
   ],
   "metadata": {}
  }
 ]
}