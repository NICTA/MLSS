{
 "metadata": {
  "name": "",
  "signature": "sha256:69d66b18dc154690c96e844bf85618d1df3b323d400e62ae6097fa9e7791baf4"
 },
 "nbformat": 3,
 "nbformat_minor": 0,
 "worksheets": [
  {
   "cells": [
    {
     "cell_type": "code",
     "collapsed": false,
     "input": [
      "import util\n",
      "X, Y = util.load_data()"
     ],
     "language": "python",
     "metadata": {},
     "outputs": [],
     "prompt_number": 1
    },
    {
     "cell_type": "markdown",
     "metadata": {},
     "source": [
      "#Classification#\n",
      "\n",
      "here is some introduction"
     ]
    },
    {
     "cell_type": "markdown",
     "metadata": {},
     "source": [
      "##Naive Bayes##\n",
      "\n",
      "text text text"
     ]
    },
    {
     "cell_type": "markdown",
     "metadata": {},
     "source": [
      "##Logistic Regression##\n",
      "\n",
      "text text text"
     ]
    },
    {
     "cell_type": "markdown",
     "metadata": {},
     "source": [
      "##Support Vector Machines##\n",
      "\n",
      "Support Vector machines are a classification technique which attempts to separate classes of data with a plane. SVMs select the plane based on the following two intuitions:\n",
      "\n",
      "1. With two classes A and B, try to put all the A's on one side of the plane and the B's on the other\n",
      "2. Planes which try to maximise the gap between the plane and the datapoints give the most 'room for error', and so might generalise better to new data.\n",
      "\n",
      "The size of the gap between the two classes of points and the plane is known as the *margin*, whilst the points that lie on this margin are the *support vectors*. These are illustrated in the figure below.\n",
      "\n",
      "\n",
      "###Beyond Linear classification###\n",
      "In real problems, it may not be possible to draw a straight line between the classes (or more technciallly, the data are not 'linearly seperable')."
     ]
    },
    {
     "cell_type": "code",
     "collapsed": false,
     "input": [],
     "language": "python",
     "metadata": {},
     "outputs": [],
     "prompt_number": 1
    },
    {
     "cell_type": "code",
     "collapsed": false,
     "input": [],
     "language": "python",
     "metadata": {},
     "outputs": [],
     "prompt_number": 1
    }
   ],
   "metadata": {}
  }
 ]
}